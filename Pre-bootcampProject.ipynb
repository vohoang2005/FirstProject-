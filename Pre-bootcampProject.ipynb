{
 "cells": [
  {
   "cell_type": "code",
   "execution_count": 72,
   "metadata": {},
   "outputs": [
    {
     "data": {
      "text/html": [
       "<div>\n",
       "<style scoped>\n",
       "    .dataframe tbody tr th:only-of-type {\n",
       "        vertical-align: middle;\n",
       "    }\n",
       "\n",
       "    .dataframe tbody tr th {\n",
       "        vertical-align: top;\n",
       "    }\n",
       "\n",
       "    .dataframe thead th {\n",
       "        text-align: right;\n",
       "    }\n",
       "</style>\n",
       "<table border=\"1\" class=\"dataframe\">\n",
       "  <thead>\n",
       "    <tr style=\"text-align: right;\">\n",
       "      <th></th>\n",
       "      <th>city</th>\n",
       "      <th>state</th>\n",
       "      <th>twentyforteenmurders</th>\n",
       "      <th>twentyfifteenmurders</th>\n",
       "      <th>change</th>\n",
       "    </tr>\n",
       "  </thead>\n",
       "  <tbody>\n",
       "    <tr>\n",
       "      <th>0</th>\n",
       "      <td>Baltimore</td>\n",
       "      <td>Maryland</td>\n",
       "      <td>211</td>\n",
       "      <td>344</td>\n",
       "      <td>133</td>\n",
       "    </tr>\n",
       "    <tr>\n",
       "      <th>1</th>\n",
       "      <td>Chicago</td>\n",
       "      <td>Illinois</td>\n",
       "      <td>411</td>\n",
       "      <td>478</td>\n",
       "      <td>67</td>\n",
       "    </tr>\n",
       "    <tr>\n",
       "      <th>2</th>\n",
       "      <td>Houston</td>\n",
       "      <td>Texas</td>\n",
       "      <td>242</td>\n",
       "      <td>303</td>\n",
       "      <td>61</td>\n",
       "    </tr>\n",
       "    <tr>\n",
       "      <th>3</th>\n",
       "      <td>Cleveland</td>\n",
       "      <td>Ohio</td>\n",
       "      <td>63</td>\n",
       "      <td>120</td>\n",
       "      <td>57</td>\n",
       "    </tr>\n",
       "    <tr>\n",
       "      <th>4</th>\n",
       "      <td>Washington</td>\n",
       "      <td>D.C.</td>\n",
       "      <td>105</td>\n",
       "      <td>162</td>\n",
       "      <td>57</td>\n",
       "    </tr>\n",
       "  </tbody>\n",
       "</table>\n",
       "</div>"
      ],
      "text/plain": [
       "         city     state  twentyforteenmurders  twentyfifteenmurders  change\n",
       "0   Baltimore  Maryland                   211                   344     133\n",
       "1     Chicago  Illinois                   411                   478      67\n",
       "2     Houston     Texas                   242                   303      61\n",
       "3   Cleveland      Ohio                    63                   120      57\n",
       "4  Washington      D.C.                   105                   162      57"
      ]
     },
     "execution_count": 72,
     "metadata": {},
     "output_type": "execute_result"
    }
   ],
   "source": [
    "import pandas as pd\n",
    "import numpy as np\n",
    "import matplotlib.pyplot as plt\n",
    "%matplotlib inline\n",
    "\n",
    "df = pd.read_csv(\"2014-2015murderrate.csv\")\n",
    "df.head()"
   ]
  },
  {
   "cell_type": "code",
   "execution_count": 115,
   "metadata": {},
   "outputs": [
    {
     "data": {
      "text/plain": [
       "'My Dataset contain the murder rate from 2014 to 2015 based on the Cities in the United State,\\nwhich I gather the information from https://data.fivethirtyeight.com/ Database Website. With this Data, \\nI want to figure out the top 7 Cities that have the highest murder rate in America. Is the murder rate \\nincreases or decreases during that one year. And if possible, predict the murder rate for 2016.'"
      ]
     },
     "execution_count": 115,
     "metadata": {},
     "output_type": "execute_result"
    }
   ],
   "source": [
    "\"\"\"My Dataset contain the murder rate from 2014 to 2015 based on the Cities in the United State,\n",
    "which I gather the information from https://data.fivethirtyeight.com/ Database Website. With this Data, \n",
    "I want to figure out the top 7 Cities that have the highest murder rate in America. Is the murder rate \n",
    "increases or decreases during that one year. And if possible, predict the murder rate for 2016.\"\"\""
   ]
  },
  {
   "cell_type": "code",
   "execution_count": 74,
   "metadata": {},
   "outputs": [
    {
     "data": {
      "text/html": [
       "<div>\n",
       "<style scoped>\n",
       "    .dataframe tbody tr th:only-of-type {\n",
       "        vertical-align: middle;\n",
       "    }\n",
       "\n",
       "    .dataframe tbody tr th {\n",
       "        vertical-align: top;\n",
       "    }\n",
       "\n",
       "    .dataframe thead th {\n",
       "        text-align: right;\n",
       "    }\n",
       "</style>\n",
       "<table border=\"1\" class=\"dataframe\">\n",
       "  <thead>\n",
       "    <tr style=\"text-align: right;\">\n",
       "      <th></th>\n",
       "      <th>city</th>\n",
       "      <th>state</th>\n",
       "      <th>twentyforteenmurders</th>\n",
       "      <th>twentyfifteenmurders</th>\n",
       "      <th>change</th>\n",
       "    </tr>\n",
       "  </thead>\n",
       "  <tbody>\n",
       "    <tr>\n",
       "      <th>0</th>\n",
       "      <td>Baltimore</td>\n",
       "      <td>Maryland</td>\n",
       "      <td>211</td>\n",
       "      <td>344</td>\n",
       "      <td>133</td>\n",
       "    </tr>\n",
       "    <tr>\n",
       "      <th>1</th>\n",
       "      <td>Chicago</td>\n",
       "      <td>Illinois</td>\n",
       "      <td>411</td>\n",
       "      <td>478</td>\n",
       "      <td>67</td>\n",
       "    </tr>\n",
       "    <tr>\n",
       "      <th>2</th>\n",
       "      <td>Houston</td>\n",
       "      <td>Texas</td>\n",
       "      <td>242</td>\n",
       "      <td>303</td>\n",
       "      <td>61</td>\n",
       "    </tr>\n",
       "    <tr>\n",
       "      <th>6</th>\n",
       "      <td>Philadelphia</td>\n",
       "      <td>Pennsylvania</td>\n",
       "      <td>248</td>\n",
       "      <td>280</td>\n",
       "      <td>32</td>\n",
       "    </tr>\n",
       "    <tr>\n",
       "      <th>13</th>\n",
       "      <td>Los Angeles</td>\n",
       "      <td>California</td>\n",
       "      <td>260</td>\n",
       "      <td>282</td>\n",
       "      <td>22</td>\n",
       "    </tr>\n",
       "    <tr>\n",
       "      <th>15</th>\n",
       "      <td>New York</td>\n",
       "      <td>New York</td>\n",
       "      <td>333</td>\n",
       "      <td>352</td>\n",
       "      <td>19</td>\n",
       "    </tr>\n",
       "    <tr>\n",
       "      <th>61</th>\n",
       "      <td>Detroit</td>\n",
       "      <td>Michigan</td>\n",
       "      <td>298</td>\n",
       "      <td>295</td>\n",
       "      <td>-3</td>\n",
       "    </tr>\n",
       "  </tbody>\n",
       "</table>\n",
       "</div>"
      ],
      "text/plain": [
       "            city         state  twentyforteenmurders  twentyfifteenmurders  \\\n",
       "0      Baltimore      Maryland                   211                   344   \n",
       "1        Chicago      Illinois                   411                   478   \n",
       "2        Houston         Texas                   242                   303   \n",
       "6   Philadelphia  Pennsylvania                   248                   280   \n",
       "13   Los Angeles    California                   260                   282   \n",
       "15      New York      New York                   333                   352   \n",
       "61       Detroit      Michigan                   298                   295   \n",
       "\n",
       "    change  \n",
       "0      133  \n",
       "1       67  \n",
       "2       61  \n",
       "6       32  \n",
       "13      22  \n",
       "15      19  \n",
       "61      -3  "
      ]
     },
     "execution_count": 74,
     "metadata": {},
     "output_type": "execute_result"
    }
   ],
   "source": [
    "df[df.twentyforteenmurders >= 200]"
   ]
  },
  {
   "cell_type": "code",
   "execution_count": 95,
   "metadata": {},
   "outputs": [
    {
     "data": {
      "text/plain": [
       "[]"
      ]
     },
     "execution_count": 95,
     "metadata": {},
     "output_type": "execute_result"
    },
    {
     "data": {
      "image/png": "[encoded data removed]",
      "text/plain": [
       "<matplotlib.figure.Figure at 0x2bd6d02d518>"
      ]
     },
     "metadata": {},
     "output_type": "display_data"
    }
   ],
   "source": [
    "df = df[df['twentyforteenmurders'] >= 200]\n",
    "df.plot(x='city', y='twentyforteenmurders', kind='bar', label = \"Year 2014\")\n",
    "\n",
    "ax = plt.gca()\n",
    "leg = ax.get_legend()\n",
    "leg.legendHandles[0].set_color('yellow')\n",
    "plt.plot()"
   ]
  },
  {
   "cell_type": "code",
   "execution_count": 116,
   "metadata": {},
   "outputs": [
    {
     "data": {
      "text/plain": [
       "'Above is the Bar graph and below is the Pie Chart for better visualization of the top 7 Cities \\nthat have the highest murder rate in 2014.'"
      ]
     },
     "execution_count": 116,
     "metadata": {},
     "output_type": "execute_result"
    }
   ],
   "source": [
    "\"\"\"Above is the Bar graph and below is the Pie Chart for better visualization of the top 7 Cities \n",
    "that have the highest murder rate in 2014.\"\"\" "
   ]
  },
  {
   "cell_type": "code",
   "execution_count": 77,
   "metadata": {},
   "outputs": [
    {
     "data": {
      "image/png": "[encoded data removed]",
      "text/plain": [
       "<matplotlib.figure.Figure at 0x2bd6e0374e0>"
      ]
     },
     "metadata": {},
     "output_type": "display_data"
    }
   ],
   "source": [
    "#Pie Chart for 2014 Murder Rate.\n",
    "labels = ['Baltimore', 'Chicago', 'Houston', 'Philadelphia', 'Los Angeles', 'New York', 'Detroit']\n",
    "murderrate = [211, 411, 242, 248, 260, 333, 298]\n",
    "\n",
    "fig, ax = plt.subplots()\n",
    "ax.pie(murderrate, labels=labels, autopct = '%1.1f%%', startangle=90)\n",
    "ax.axis('equal') #make pie more circle\n",
    "plt.tight_layout() #make graph bigger\n",
    "plt.show()"
   ]
  },
  {
   "cell_type": "code",
   "execution_count": 78,
   "metadata": {},
   "outputs": [
    {
     "data": {
      "text/plain": [
       "'Lets see if the same Cities will stay on top for 2015.'"
      ]
     },
     "execution_count": 78,
     "metadata": {},
     "output_type": "execute_result"
    }
   ],
   "source": [
    "\"\"\"Lets see if the same Cities will stay on top for 2015.\"\"\""
   ]
  },
  {
   "cell_type": "code",
   "execution_count": 79,
   "metadata": {},
   "outputs": [
    {
     "data": {
      "text/html": [
       "<div>\n",
       "<style scoped>\n",
       "    .dataframe tbody tr th:only-of-type {\n",
       "        vertical-align: middle;\n",
       "    }\n",
       "\n",
       "    .dataframe tbody tr th {\n",
       "        vertical-align: top;\n",
       "    }\n",
       "\n",
       "    .dataframe thead th {\n",
       "        text-align: right;\n",
       "    }\n",
       "</style>\n",
       "<table border=\"1\" class=\"dataframe\">\n",
       "  <thead>\n",
       "    <tr style=\"text-align: right;\">\n",
       "      <th></th>\n",
       "      <th>city</th>\n",
       "      <th>state</th>\n",
       "      <th>twentyforteenmurders</th>\n",
       "      <th>twentyfifteenmurders</th>\n",
       "      <th>change</th>\n",
       "    </tr>\n",
       "  </thead>\n",
       "  <tbody>\n",
       "    <tr>\n",
       "      <th>0</th>\n",
       "      <td>Baltimore</td>\n",
       "      <td>Maryland</td>\n",
       "      <td>211</td>\n",
       "      <td>344</td>\n",
       "      <td>133</td>\n",
       "    </tr>\n",
       "    <tr>\n",
       "      <th>1</th>\n",
       "      <td>Chicago</td>\n",
       "      <td>Illinois</td>\n",
       "      <td>411</td>\n",
       "      <td>478</td>\n",
       "      <td>67</td>\n",
       "    </tr>\n",
       "    <tr>\n",
       "      <th>2</th>\n",
       "      <td>Houston</td>\n",
       "      <td>Texas</td>\n",
       "      <td>242</td>\n",
       "      <td>303</td>\n",
       "      <td>61</td>\n",
       "    </tr>\n",
       "    <tr>\n",
       "      <th>6</th>\n",
       "      <td>Philadelphia</td>\n",
       "      <td>Pennsylvania</td>\n",
       "      <td>248</td>\n",
       "      <td>280</td>\n",
       "      <td>32</td>\n",
       "    </tr>\n",
       "    <tr>\n",
       "      <th>13</th>\n",
       "      <td>Los Angeles</td>\n",
       "      <td>California</td>\n",
       "      <td>260</td>\n",
       "      <td>282</td>\n",
       "      <td>22</td>\n",
       "    </tr>\n",
       "    <tr>\n",
       "      <th>15</th>\n",
       "      <td>New York</td>\n",
       "      <td>New York</td>\n",
       "      <td>333</td>\n",
       "      <td>352</td>\n",
       "      <td>19</td>\n",
       "    </tr>\n",
       "    <tr>\n",
       "      <th>61</th>\n",
       "      <td>Detroit</td>\n",
       "      <td>Michigan</td>\n",
       "      <td>298</td>\n",
       "      <td>295</td>\n",
       "      <td>-3</td>\n",
       "    </tr>\n",
       "  </tbody>\n",
       "</table>\n",
       "</div>"
      ],
      "text/plain": [
       "            city         state  twentyforteenmurders  twentyfifteenmurders  \\\n",
       "0      Baltimore      Maryland                   211                   344   \n",
       "1        Chicago      Illinois                   411                   478   \n",
       "2        Houston         Texas                   242                   303   \n",
       "6   Philadelphia  Pennsylvania                   248                   280   \n",
       "13   Los Angeles    California                   260                   282   \n",
       "15      New York      New York                   333                   352   \n",
       "61       Detroit      Michigan                   298                   295   \n",
       "\n",
       "    change  \n",
       "0      133  \n",
       "1       67  \n",
       "2       61  \n",
       "6       32  \n",
       "13      22  \n",
       "15      19  \n",
       "61      -3  "
      ]
     },
     "execution_count": 79,
     "metadata": {},
     "output_type": "execute_result"
    }
   ],
   "source": [
    "df[df.twentyfifteenmurders >= 200]"
   ]
  },
  {
   "cell_type": "code",
   "execution_count": 80,
   "metadata": {},
   "outputs": [
    {
     "data": {
      "text/plain": [
       "[]"
      ]
     },
     "execution_count": 80,
     "metadata": {},
     "output_type": "execute_result"
    },
    {
     "data": {
      "image/png": "[encoded data removed]",
      "text/plain": [
       "<matplotlib.figure.Figure at 0x2bd6e13c400>"
      ]
     },
     "metadata": {},
     "output_type": "display_data"
    }
   ],
   "source": [
    "df = df[df['twentyfifteenmurders'] >= 200]\n",
    "df.plot(x='city', y='twentyfifteenmurders', kind='bar', label = 2015)\n",
    "\n",
    "ax = plt.gca()\n",
    "leg = ax.get_legend()\n",
    "leg.legendHandles[0].set_color('red')\n",
    "plt.plot()"
   ]
  },
  {
   "cell_type": "code",
   "execution_count": 118,
   "metadata": {},
   "outputs": [
    {
     "data": {
      "text/plain": [
       "' Again, above is the Bar chart and below is the Pie Chart for better visulization of the top 7 Cities that have the highest\\n murder rate in 2014.'"
      ]
     },
     "execution_count": 118,
     "metadata": {},
     "output_type": "execute_result"
    }
   ],
   "source": [
    "\"\"\" Again, above is the Bar chart and below is the Pie Chart for better visulization of the top 7 Cities that have the highest\n",
    " murder rate in 2014.\"\"\""
   ]
  },
  {
   "cell_type": "code",
   "execution_count": 82,
   "metadata": {},
   "outputs": [
    {
     "data": {
      "image/png": "[encoded data removed]",
      "text/plain": [
       "<matplotlib.figure.Figure at 0x2bd6e0ae160>"
      ]
     },
     "metadata": {},
     "output_type": "display_data"
    }
   ],
   "source": [
    "#Pie Chart for 2015 Murder Rate.\n",
    "labels = ['Baltimore', 'Chicago', 'Houston', 'Philadelphia', 'Los Angeles', 'New York', 'Detroit']\n",
    "murderrate = [344, 478, 303, 280, 282, 352, 295]\n",
    "\n",
    "fig, ax = plt.subplots()\n",
    "ax.pie(murderrate, labels=labels, autopct = '%1.1f%%', startangle=90)\n",
    "ax.axis('equal') #make pie more circle\n",
    "plt.tight_layout() #make graph bigger\n",
    "plt.show()"
   ]
  },
  {
   "cell_type": "code",
   "execution_count": 83,
   "metadata": {},
   "outputs": [
    {
     "data": {
      "text/plain": [
       "'When I check the 2015, we can see that Chicago is still in first place for the most murder rate\\nin America. Follow by New York, and surprising Baltimore come 3rd instead of Detroit. The reason \\nwhy Baltimore murder rate surges so high in 2015 is because of gang rivalries, increases in gun \\nsupply on the street, and police are being less aggressive.'"
      ]
     },
     "execution_count": 83,
     "metadata": {},
     "output_type": "execute_result"
    }
   ],
   "source": [
    "\"\"\"When I check the 2015, we can see that Chicago is still in first place for the most murder rate\n",
    "in America. Follow by New York, and surprising Baltimore come 3rd instead of Detroit. The reason \n",
    "why Baltimore murder rate surges so high in 2015 is because of gang rivalries, increases in gun \n",
    "supply on the street, and police are being less aggressive.\"\"\""
   ]
  },
  {
   "cell_type": "code",
   "execution_count": 84,
   "metadata": {},
   "outputs": [
    {
     "data": {
      "text/plain": [
       "\"What I'm interested in knowing is the total murder rate in 2014 and 2015 to more accurately \\npredict 2016 murder rate.\""
      ]
     },
     "execution_count": 84,
     "metadata": {},
     "output_type": "execute_result"
    }
   ],
   "source": [
    "\"\"\"What I'm interested in knowing is the total murder rate in 2014 and 2015 to more accurately \n",
    "predict 2016 murder rate.\"\"\""
   ]
  },
  {
   "cell_type": "code",
   "execution_count": 122,
   "metadata": {},
   "outputs": [
    {
     "name": "stdout",
     "output_type": "stream",
     "text": [
      "2014 Average murder rate in the US:\n",
      "286.14285714285717\n",
      "2015 Average murder rate in the US:\n",
      "333.42857142857144\n",
      "Below is the precentage increase in murder rate from 2014 to 2015: \n",
      "14.181662382176519\n"
     ]
    }
   ],
   "source": [
    "death2014 = df['twentyforteenmurders']\n",
    "print(\"2014 Average murder rate in the US:\")\n",
    "print(np.mean(death2014))\n",
    "death2015 = df['twentyfifteenmurders']\n",
    "print(\"2015 Average murder rate in the US:\")\n",
    "print(np.mean(death2015))\n",
    "total = (np.mean(death2014)/np.mean(death2015))\n",
    "average = (total-1)*-100\n",
    "print(\"Below is the precentage increase in murder rate from 2014 to 2015: \")\n",
    "print(average)"
   ]
  },
  {
   "cell_type": "code",
   "execution_count": 123,
   "metadata": {},
   "outputs": [
    {
     "data": {
      "text/plain": [
       "'From 2014 to 2015, we can see there a 14% increase in murder rate in the United State. Which \\nwe can assume in 2016, the murder rate will most likely to increase. And we can roughly estimate\\nwhat the average murder rate will be in 2016.'"
      ]
     },
     "execution_count": 123,
     "metadata": {},
     "output_type": "execute_result"
    }
   ],
   "source": [
    "\"\"\"From 2014 to 2015, we can see there a 14% increase in murder rate in the United State. Which \n",
    "we can assume in 2016, the murder rate will most likely to increase. And we can roughly estimate\n",
    "what the average murder rate will be in 2016.\"\"\""
   ]
  },
  {
   "cell_type": "code",
   "execution_count": 112,
   "metadata": {},
   "outputs": [
    {
     "data": {
      "text/plain": [
       "388.5283503316454"
      ]
     },
     "execution_count": 112,
     "metadata": {},
     "output_type": "execute_result"
    }
   ],
   "source": [
    "np.mean(death2015)/total"
   ]
  },
  {
   "cell_type": "code",
   "execution_count": null,
   "metadata": {},
   "outputs": [],
   "source": [
    "\"\"\"We roughly estimate that in 2016, the average murder rate in the US will be 388.\n",
    "But based on https://www.theguardian.com/us-news and other fbi.gov/news, the US murder rate from 2015\n",
    "to 2016 increases by only 8.6 percent. My guess was off by roughly 5.6%. Consider I have only 1 year\n",
    "to make an assumption, it come out pretty good with a deviation of 5.6%.\"\"\""
   ]
  }
 ],
 "metadata": {
  "kernelspec": {
   "display_name": "Python 3",
   "language": "python",
   "name": "python3"
  },
  "language_info": {
   "codemirror_mode": {
    "name": "ipython",
    "version": 3
   },
   "file_extension": ".py",
   "mimetype": "text/x-python",
   "name": "python",
   "nbconvert_exporter": "python",
   "pygments_lexer": "ipython3",
   "version": "3.6.4"
  }
 },
 "nbformat": 4,
 "nbformat_minor": 2
}
