{
 "cells": [
  {
   "cell_type": "markdown",
   "metadata": {},
   "source": [
    "# My Research is about Gun Regulation in United State. America have a huge issue with gun control. People can go in a store, purchase a gun and say they buy it for self defense. They can be as young as age of 18 to buy one. Are 18 years old mentality capable of using such a dangerous weapon at a young age? Thus we need some kind of measurement to make it harder for people to obtain gun, we need to regulate the reason for owning one. With regulation, it make it harder for guns to be purchased, thus, less gun, less homicide by gun. Also, the ones that own a gun is very responsible for all the work they have to do to obtain one. In this research, I will compare United State with other top Countries that have  high volume of gun counts. To see if there any trend of high gun counts related to high homicide by gun. "
   ]
  },
  {
   "cell_type": "markdown",
   "metadata": {},
   "source": [
    "## First lets compare the top 10 Countries in the world with the highest Gun Count. With the graph below, you can see how much gun owned by United State comparing to other Countries."
   ]
  },
  {
   "cell_type": "code",
   "execution_count": 60,
   "metadata": {},
   "outputs": [
    {
     "data": {
      "text/plain": [
       "[]"
      ]
     },
     "execution_count": 60,
     "metadata": {},
     "output_type": "execute_result"
    },
    {
     "data": {
      "image/png": "[encoded data removed]",
      "text/plain": [
       "<matplotlib.figure.Figure at 0x244b027a2b0>"
      ]
     },
     "metadata": {},
     "output_type": "display_data"
    }
   ],
   "source": [
    "ff.plot(x='Country', y='Gun', kind='bar', label = \"Gun owned by Countries\")\n",
    "\n",
    "ax = plt.gca()\n",
    "leg = ax.get_legend()\n",
    "leg.legendHandles[0].set_color('white')\n",
    "plt.plot()"
   ]
  },
  {
   "cell_type": "markdown",
   "metadata": {},
   "source": [
    "## United State by far own the most guns in the world. Does high gun count per Countries mean high homicide by gun? My research go deeper into top 3 countries excluding the US. The seconds highest Gun owned by Countries is Yemen, but we can exclude Yemen in our list because it currently at War, and evaluating homicide when a Country at War will give us a bias Sample to our dataset. We will go to our third Country with the highest gun count, Switzerland. In 2017, Switzerland have 232 cases of homicide. 123 were committed with bladed weapons, 47 with firearms and 30 unarmed. This shows that gun are not the cause of high homicide rate since Switzerland do have high gun counts. The main reason why Switzerland have low homicide by gun is because they have a strict regulation on gun control. They regulate the rule by keeping check up on the people that own the gun. Making sure that they have license for the gun, even if bought privately, the gun must be registered. Below is 2016 homicide by gun, and other homicide weapon in Switzerland."
   ]
  },
  {
   "cell_type": "code",
   "execution_count": 61,
   "metadata": {},
   "outputs": [
    {
     "data": {
      "image/png": "[encoded data removed]",
      "text/plain": [
       "<matplotlib.figure.Figure at 0x244af143240>"
      ]
     },
     "metadata": {},
     "output_type": "display_data"
    }
   ],
   "source": [
    "Weapon = ('Knife', 'Gun', 'other')\n",
    "Homicide = [123, 47, 30]\n",
    "plt.xlabel('Weapon')\n",
    "plt.ylabel('2016 Switzerland Homicide ')\n",
    "y_pos = np.arange(len(Weapon))\n",
    "plt.bar(y_pos, Homicide)\n",
    "plt.xticks(y_pos, Weapon)\n",
    "plt.show()"
   ]
  },
  {
   "cell_type": "markdown",
   "metadata": {},
   "source": [
    "## Switzerland homicide rate is 0.50 per 100,000, and Finland is 1.4 per 100,000. While the United State is 12.1 per 100,000. Finland and Switzerland adapt a very strict gun control in their country. Firearms casualties is only 14 precent of the homicide cases in Finland and 23 percent in Switzerland, which is very low for it being the 3rd and 4th most gun owned Country. Guns and other weapons are tightly regulated. One must separtely apply for a gun license, which cannot be  issued for \"self defense reasons\". Carrying weapons, including guns in public is not allowed. "
   ]
  },
  {
   "cell_type": "code",
   "execution_count": 62,
   "metadata": {},
   "outputs": [
    {
     "data": {
      "image/png": "[encoded data removed]",
      "text/plain": [
       "<matplotlib.figure.Figure at 0x244b03dd160>"
      ]
     },
     "metadata": {},
     "output_type": "display_data"
    }
   ],
   "source": [
    "Country = ('US', 'Finland')\n",
    "Homicide = [12.1, 1.4]\n",
    "plt.xlabel('Country')\n",
    "plt.ylabel('Homicide by gun per every 100,000')\n",
    "y_pos = np.arange(len(Country))\n",
    "plt.bar(y_pos, Homicide, color='pink')\n",
    "plt.xticks(y_pos, Country, color='red')\n",
    "plt.show()"
   ]
  },
  {
   "cell_type": "markdown",
   "metadata": {},
   "source": [
    "## Below is a list on homicide and a list of weapon that were part of the homicide from 1990 to 2014 in United State."
   ]
  },
  {
   "cell_type": "code",
   "execution_count": 35,
   "metadata": {},
   "outputs": [],
   "source": [
    "import pandas as pd\n",
    "import numpy as np\n",
    "import matplotlib.pyplot as plt\n",
    "import seaborn as sns\n",
    "%matplotlib inline"
   ]
  },
  {
   "cell_type": "code",
   "execution_count": 54,
   "metadata": {},
   "outputs": [
    {
     "name": "stderr",
     "output_type": "stream",
     "text": [
      "C:\\Users\\MESUPERSEXAYYY\\Anaconda3\\lib\\site-packages\\IPython\\core\\interactiveshell.py:2728: DtypeWarning: Columns (12) have mixed types. Specify dtype option on import or set low_memory=False.\n",
      "  interactivity=interactivity, compiler=compiler, result=result)\n"
     ]
    }
   ],
   "source": [
    "df = pd.read_csv(\"crime.csv\")\n",
    "df.drop([\"Perpetrator Ethnicity\", \"Relationship\", \"Victim Ethnicity\", \"Victim Count\", \"Perpetrator Count\"], axis=1, inplace=True)\n",
    "ff = pd.read_csv(\"gunowned.csv\")"
   ]
  },
  {
   "cell_type": "code",
   "execution_count": 37,
   "metadata": {},
   "outputs": [
    {
     "data": {
      "text/plain": [
       "Handgun          317484\n",
       "Knife             94962\n",
       "Blunt Object      67337\n",
       "Firearm           46980\n",
       "Unknown           33192\n",
       "Shotgun           30722\n",
       "Rifle             23347\n",
       "Strangulation      8110\n",
       "Fire               6173\n",
       "Suffocation        3968\n",
       "Gun                2206\n",
       "Drugs              1588\n",
       "Drowning           1204\n",
       "Explosives          537\n",
       "Poison              454\n",
       "Fall                190\n",
       "Name: Weapon, dtype: int64"
      ]
     },
     "execution_count": 37,
     "metadata": {},
     "output_type": "execute_result"
    }
   ],
   "source": [
    "df.Weapon.value_counts()"
   ]
  },
  {
   "cell_type": "markdown",
   "metadata": {},
   "source": [
    "## You can see that Handgun is number one homicide in the United State from 1980 to 2014. This dataset is not grouped, I will group other firearms together with Gun to make it more precise. I will also group most of the unrelated reason of death as \"other\" for easier viewing."
   ]
  },
  {
   "cell_type": "code",
   "execution_count": 38,
   "metadata": {},
   "outputs": [
    {
     "data": {
      "text/plain": [
       "Gun             420739\n",
       "Knife            94962\n",
       "Blunt Object     67337\n",
       "Other            55416\n",
       "Name: Weapon, dtype: int64"
      ]
     },
     "execution_count": 38,
     "metadata": {},
     "output_type": "execute_result"
    }
   ],
   "source": [
    "df['Weapon'] = df['Weapon'].apply(lambda x: \"Gun\" if \"Handgun\" in x else x)\n",
    "df['Weapon'] = df['Weapon'].apply(lambda x: \"Gun\" if \"Shotgun\" in x else x)\n",
    "df['Weapon'] = df['Weapon'].apply(lambda x: 'Gun' if \"Rifle\" in x else x)\n",
    "df['Weapon'] = df['Weapon'].apply(lambda x: 'Gun' if 'Firearm' in x else x)\n",
    "df['Weapon'] = df['Weapon'].apply(lambda x: 'Other' if 'Fall' in x else x)\n",
    "df['Weapon'] = df['Weapon'].apply(lambda x: 'Other' if 'Poison' in x else x)\n",
    "df['Weapon'] = df['Weapon'].apply(lambda x: 'Other' if 'Explosives' in x else x)\n",
    "df['Weapon'] = df['Weapon'].apply(lambda x: 'Other' if 'Unknown' in x else x)\n",
    "df['Weapon'] = df['Weapon'].apply(lambda x: 'Other' if 'Strangulation' in x else x)\n",
    "df['Weapon'] = df['Weapon'].apply(lambda x: 'Other' if 'Fire' in x else x)\n",
    "df['Weapon'] = df['Weapon'].apply(lambda x: 'Other' if 'Suffocation' in x else x)\n",
    "df['Weapon'] = df['Weapon'].apply(lambda x: 'Other' if 'Drugs' in x else x)\n",
    "df['Weapon'] = df['Weapon'].apply(lambda x: 'Other' if 'Drowning' in x else x)\n",
    "df.Weapon.value_counts()"
   ]
  },
  {
   "cell_type": "markdown",
   "metadata": {},
   "source": [
    "## Homicide rate in United State related to gun is very high, compare to other homicide weapon. Let put it in a graph for better viewing purposes."
   ]
  },
  {
   "cell_type": "code",
   "execution_count": 44,
   "metadata": {},
   "outputs": [
    {
     "data": {
      "image/png": "[encoded data removed]",
      "text/plain": [
       "<matplotlib.figure.Figure at 0x244aef1cdd8>"
      ]
     },
     "metadata": {},
     "output_type": "display_data"
    }
   ],
   "source": [
    "#Pie Chart for 1980-2014 homicide.\n",
    "labels = ['Gun', 'Knife', 'Blunt 0bject', 'Other']\n",
    "murderrate = [420739, 94962, 67337, 55416]\n",
    "\n",
    "fig, ax = plt.subplots()\n",
    "ax.pie(murderrate, labels=labels, autopct = '%1.1f%%', startangle=90)\n",
    "ax.axis('equal') #make pie more circle\n",
    "plt.tight_layout() #make graph bigger\n",
    "plt.show()"
   ]
  },
  {
   "cell_type": "code",
   "execution_count": 45,
   "metadata": {},
   "outputs": [
    {
     "data": {
      "image/png": "[encoded data removed]",
      "text/plain": [
       "<matplotlib.figure.Figure at 0x244ada06860>"
      ]
     },
     "metadata": {},
     "output_type": "display_data"
    }
   ],
   "source": [
    "Weapon = ('Gun', 'Knife', 'Blunt 0bject', 'Other')\n",
    "Homicide = [420739, 94962, 67337, 55416]\n",
    "plt.xlabel('Weapon')\n",
    "plt.ylabel('Homicide')\n",
    "y_pos = np.arange(len(Weapon))\n",
    "plt.bar(y_pos, Homicide)\n",
    "plt.xticks(y_pos, Weapon)\n",
    "plt.show()"
   ]
  },
  {
   "cell_type": "markdown",
   "metadata": {},
   "source": [
    "## Gun contribute to 65.9% of homicide in the United State. There are a lot of debate going on regards to banning gun in the US. But a lot people are against it. Main reason is they need gun for self defense, people do not feel safe even in their home. If you want to read more about the debate. \"Should More Gun Control Laws Be Enacted. Please go to this link: https://gun-control.procon.org/"
   ]
  },
  {
   "cell_type": "markdown",
   "metadata": {},
   "source": [
    "## In conclusion, this shows that even if you have high gun count in your Country. It is not necessary mean high homicide rate by gun. We need gun regulation to reduce the homicide rate in the United State.  \n",
    "\n",
    "\n",
    "## We know that in 2016, 1,368 people lose their lives in California by gun, thats roughly 72 percent of homicide. We will do a testing in California and enact the law to new gun owners; that you need to register your gun, and cannot bring your gun to public area and the rules above. Enforce our strict gun control, such as raise up legal age to buy gun to 21, ban assault weapons and check mental health issue for people who want to buy gun. For the next three years, we then check the homicide rate to see any changes. If after one year, the homicide rate dropped by 20 percent, we can say it is successful. That Gun control do reduce homicide rate related to gun. If after one year and the homicide rate drop by 10 percent, then we have to extend our testing for another year. If in the first year and the homicide rate only drop by 5% or lower, we can also conclude that gun control does not work in USA. "
   ]
  },
  {
   "cell_type": "markdown",
   "metadata": {},
   "source": [
    "## Credit to the sources: \n",
    "## https://en.wikipedia.org/wiki/Yemeni_Civil_War_(2015–present)\n",
    "## https://en.wikipedia.org/wiki/Crime_in_Switzerland\n",
    "## https://en.wikipedia.org/wiki/Crime_in_Finland\n",
    "## https://gun-control.procon.org/\n",
    "## https://gun-control.procon.org/view.resource.php?resourceID=006100\n",
    "## https://www.cnn.com/2017/10/03/americas/us-gun-statistics/index.html"
   ]
  },
  {
   "cell_type": "code",
   "execution_count": null,
   "metadata": {},
   "outputs": [],
   "source": []
  }
 ],
 "metadata": {
  "kernelspec": {
   "display_name": "Python 3",
   "language": "python",
   "name": "python3"
  },
  "language_info": {
   "codemirror_mode": {
    "name": "ipython",
    "version": 3
   },
   "file_extension": ".py",
   "mimetype": "text/x-python",
   "name": "python",
   "nbconvert_exporter": "python",
   "pygments_lexer": "ipython3",
   "version": "3.6.4"
  }
 },
 "nbformat": 4,
 "nbformat_minor": 2
}
