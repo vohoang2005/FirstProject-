{
 "cells": [
  {
   "cell_type": "code",
   "execution_count": 1,
   "metadata": {},
   "outputs": [
    {
     "name": "stdout",
     "output_type": "stream",
     "text": [
      "0.0625\n"
     ]
    }
   ],
   "source": [
    "x = .5*.5*.5*.5\n",
    "print(x)\n",
    "#.0625 percent of it being HTTH, HHHH, or TTHH"
   ]
  },
  {
   "cell_type": "code",
   "execution_count": 2,
   "metadata": {},
   "outputs": [
    {
     "name": "stdout",
     "output_type": "stream",
     "text": [
      "0.5333333333333333\n"
     ]
    }
   ],
   "source": [
    "female = (24/45)\n",
    "print(female)\n",
    "#.5333333333333 chance it be a woman."
   ]
  },
  {
   "cell_type": "code",
   "execution_count": 5,
   "metadata": {},
   "outputs": [
    {
     "name": "stdout",
     "output_type": "stream",
     "text": [
      "0.0005\n"
     ]
    }
   ],
   "source": [
    "Bernice = (.10*.005)\n",
    "print(Bernice)\n",
    "#very low chance that Bernice will be in a plane crash."
   ]
  },
  {
   "cell_type": "code",
   "execution_count": 8,
   "metadata": {},
   "outputs": [
    {
     "name": "stdout",
     "output_type": "stream",
     "text": [
      "The longer the student on the website, the more likely will fill out the survey. Which cause the survey to be more bias on students that surf longer. Students who surf less might not even prompt for survey or not even bother to fill it out. Therefore, the spending time will be drifted to the right more. \n"
     ]
    }
   ],
   "source": [
    "print(\"The longer the student on the website, the more likely will fill out the survey. Which cause the survey to be more bias on students that surf longer. Students who surf less might not even prompt for survey or not even bother to fill it out. Therefore, the spending time will be drifted to the right more. \")"
   ]
  },
  {
   "cell_type": "code",
   "execution_count": null,
   "metadata": {},
   "outputs": [],
   "source": []
  }
 ],
 "metadata": {
  "kernelspec": {
   "display_name": "Python 3",
   "language": "python",
   "name": "python3"
  },
  "language_info": {
   "codemirror_mode": {
    "name": "ipython",
    "version": 3
   },
   "file_extension": ".py",
   "mimetype": "text/x-python",
   "name": "python",
   "nbconvert_exporter": "python",
   "pygments_lexer": "ipython3",
   "version": "3.6.4"
  }
 },
 "nbformat": 4,
 "nbformat_minor": 2
}
