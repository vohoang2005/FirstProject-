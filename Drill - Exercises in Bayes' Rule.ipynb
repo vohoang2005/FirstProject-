{
 "cells": [
  {
   "cell_type": "code",
   "execution_count": 3,
   "metadata": {},
   "outputs": [
    {
     "name": "stdout",
     "output_type": "stream",
     "text": [
      "0.1044\n"
     ]
    }
   ],
   "source": [
    "affected = (.005)\n",
    "Nonaffected = (.995)\n",
    "positive = (.98)\n",
    "false = (.10)\n",
    "print(affected*positive+Nonaffected*false)\n",
    "#0.1044 chance that the test will be positive."
   ]
  },
  {
   "cell_type": "code",
   "execution_count": 4,
   "metadata": {},
   "outputs": [
    {
     "name": "stdout",
     "output_type": "stream",
     "text": [
      "0.98\n"
     ]
    }
   ],
   "source": [
    "print(positive)\n",
    "#98% it can correctly diagnose a sufferer of Thripshaw"
   ]
  },
  {
   "cell_type": "code",
   "execution_count": 7,
   "metadata": {},
   "outputs": [
    {
     "name": "stdout",
     "output_type": "stream",
     "text": [
      "100%-(10% probability of giving false to non-sufferer)\n",
      "90%\n"
     ]
    }
   ],
   "source": [
    "print(\"100%-(10% probability of giving false to non-sufferer)\")\n",
    "print(\"90% correctly diagnose a non-sufferer of Thripshaw\")"
   ]
  },
  {
   "cell_type": "code",
   "execution_count": 10,
   "metadata": {},
   "outputs": [
    {
     "name": "stdout",
     "output_type": "stream",
     "text": [
      "1-(.98*.005 + .9*.995)\n",
      "answer is: .0996\n"
     ]
    }
   ],
   "source": [
    "print(\"1-(.98*.005 + .9*.995)\")\n",
    "print(\"answer is: .0996\")"
   ]
  }
 ],
 "metadata": {
  "kernelspec": {
   "display_name": "Python 3",
   "language": "python",
   "name": "python3"
  },
  "language_info": {
   "codemirror_mode": {
    "name": "ipython",
    "version": 3
   },
   "file_extension": ".py",
   "mimetype": "text/x-python",
   "name": "python",
   "nbconvert_exporter": "python",
   "pygments_lexer": "ipython3",
   "version": "3.6.4"
  }
 },
 "nbformat": 4,
 "nbformat_minor": 2
}
