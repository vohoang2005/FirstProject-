{
 "cells": [
  {
   "cell_type": "code",
   "execution_count": 43,
   "metadata": {},
   "outputs": [
    {
     "name": "stdout",
     "output_type": "stream",
     "text": [
      "The Mean is:  9.857142857142858\n",
      "The Median is:  10.0\n",
      "The Variance is:  6.408163265306122\n",
      "The Standard Deviation is:  2.531435020952764\n",
      "The Standard Error is:  1.0334540197243194\n",
      "The Mode is: 8\n"
     ]
    }
   ],
   "source": [
    "import pandas as pd\n",
    "import numpy as np\n",
    "\n",
    "age = [14, 12, 11, 10, 8, 6, 8]\n",
    "def average(age):\n",
    "    print(\"The Mean is: \", np.mean(age))\n",
    "    print(\"The Median is: \", np.median(age))\n",
    "    print(\"The Variance is: \", np.var(age))\n",
    "    print(\"The Standard Deviation is: \", np.std(age))\n",
    "    print(\"The Standard Error is: \", np.std(age)/np.sqrt(len(age)-1))\n",
    "          \n",
    "average(age)\n",
    "print(\"The Mode is: 8\")\n",
    "#Answer to #1 is below\n",
    "#Answer to #2 is:I would pick the central tendency as the mean of 9.8 is more accurate to the kids age than the variance of 6.4.\n"
   ]
  },
  {
   "cell_type": "code",
   "execution_count": 39,
   "metadata": {},
   "outputs": [
    {
     "name": "stdout",
     "output_type": "stream",
     "text": [
      "The mean is:  10.0\n",
      "The median is:  10.0\n",
      "The variance is:  5.428571428571429\n",
      "The Standard Deviation is:  2.32992949004287\n",
      "The Standard Error is:  0.951189731211342\n",
      "The Mode is: 8\n"
     ]
    }
   ],
   "source": [
    "age1 = [14, 12, 11, 10, 8, 7, 8]\n",
    "average(age1)\n",
    "print(\"The Mode is: 8\")\n",
    "#Answer to #3 is: When Cindy changed to 7, all the numbers increase a little bit except for the median which stays at 10 and the SE slightly dropped."
   ]
  },
  {
   "cell_type": "code",
   "execution_count": 42,
   "metadata": {},
   "outputs": [
    {
     "name": "stdout",
     "output_type": "stream",
     "text": [
      "The mean is:  9.0\n",
      "The median is:  10.0\n",
      "The variance is:  15.428571428571429\n",
      "The Standard Deviation is:  3.927922024247863\n",
      "The Standard Error is:  1.6035674514745466\n",
      "The Mode is: None, or all of them.\n"
     ]
    }
   ],
   "source": [
    "age2 = [14, 12, 11, 10, 8, 7, 1]\n",
    "average(age2)\n",
    "print(\"The Mode is: None, or all of them.\")\n",
    "#Answer to #4: When Jessica replaced Oliver, the mean changed to 9, the Variance increased to 15. The SD is very high, close\n",
    "# to 4, which doubled Oliver. I would stay with my old choice of central tendecy for lower risk. "
   ]
  },
  {
   "cell_type": "code",
   "execution_count": null,
   "metadata": {},
   "outputs": [],
   "source": [
    "#Answer to #5: SciPhi is not really justified as a good sample because it base on Science Friction. Therefore, we can exclude it.\n",
    "# (20+23+17)/3=20% of Adult Americans are Brady Bunch Fans on the 50th anniversary of the show. "
   ]
  }
 ],
 "metadata": {
  "kernelspec": {
   "display_name": "Python 3",
   "language": "python",
   "name": "python3"
  },
  "language_info": {
   "codemirror_mode": {
    "name": "ipython",
    "version": 3
   },
   "file_extension": ".py",
   "mimetype": "text/x-python",
   "name": "python",
   "nbconvert_exporter": "python",
   "pygments_lexer": "ipython3",
   "version": "3.6.4"
  }
 },
 "nbformat": 4,
 "nbformat_minor": 2
}
