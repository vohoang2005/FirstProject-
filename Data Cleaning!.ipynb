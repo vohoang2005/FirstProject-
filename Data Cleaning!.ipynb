{
 "cells": [
  {
   "cell_type": "code",
   "execution_count": 268,
   "metadata": {},
   "outputs": [
    {
     "data": {
      "text/html": [
       "<div>\n",
       "<style scoped>\n",
       "    .dataframe tbody tr th:only-of-type {\n",
       "        vertical-align: middle;\n",
       "    }\n",
       "\n",
       "    .dataframe tbody tr th {\n",
       "        vertical-align: top;\n",
       "    }\n",
       "\n",
       "    .dataframe thead th {\n",
       "        text-align: right;\n",
       "    }\n",
       "</style>\n",
       "<table border=\"1\" class=\"dataframe\">\n",
       "  <thead>\n",
       "    <tr style=\"text-align: right;\">\n",
       "      <th></th>\n",
       "      <th>PMID/PM</th>\n",
       "      <th>Publisher</th>\n",
       "      <th>Journal tit</th>\n",
       "      <th>Article titl</th>\n",
       "      <th>COST (£) charged to Wellcome (inc VAT when charged)</th>\n",
       "    </tr>\n",
       "  </thead>\n",
       "  <tbody>\n",
       "    <tr>\n",
       "      <th>0</th>\n",
       "      <td>NaN</td>\n",
       "      <td>CUP</td>\n",
       "      <td>Psycholog</td>\n",
       "      <td>Reduced</td>\n",
       "      <td>£0.00</td>\n",
       "    </tr>\n",
       "    <tr>\n",
       "      <th>1</th>\n",
       "      <td>PMC36795</td>\n",
       "      <td>ACS</td>\n",
       "      <td>Biomacro</td>\n",
       "      <td>Structural</td>\n",
       "      <td>£2381.04</td>\n",
       "    </tr>\n",
       "    <tr>\n",
       "      <th>2</th>\n",
       "      <td>23043264</td>\n",
       "      <td>ACS</td>\n",
       "      <td>J Med Che</td>\n",
       "      <td>Fumaroyl</td>\n",
       "      <td>£642.56</td>\n",
       "    </tr>\n",
       "    <tr>\n",
       "      <th>3</th>\n",
       "      <td>23438330</td>\n",
       "      <td>ACS</td>\n",
       "      <td>J Med Che</td>\n",
       "      <td>Orvinols</td>\n",
       "      <td>£669.64</td>\n",
       "    </tr>\n",
       "    <tr>\n",
       "      <th>4</th>\n",
       "      <td>23438216</td>\n",
       "      <td>ACS</td>\n",
       "      <td>J Org Che</td>\n",
       "      <td>Regiosele</td>\n",
       "      <td>£685.88</td>\n",
       "    </tr>\n",
       "  </tbody>\n",
       "</table>\n",
       "</div>"
      ],
      "text/plain": [
       "     PMID/PM Publisher Journal tit Article titl  \\\n",
       "0        NaN       CUP   Psycholog      Reduced   \n",
       "1   PMC36795       ACS    Biomacro   Structural   \n",
       "2  23043264        ACS   J Med Che     Fumaroyl   \n",
       "3   23438330       ACS   J Med Che     Orvinols   \n",
       "4   23438216       ACS   J Org Che    Regiosele   \n",
       "\n",
       "  COST (£) charged to Wellcome (inc VAT when charged)  \n",
       "0                                              £0.00   \n",
       "1                                           £2381.04   \n",
       "2                                            £642.56   \n",
       "3                                            £669.64   \n",
       "4                                            £685.88   "
      ]
     },
     "execution_count": 268,
     "metadata": {},
     "output_type": "execute_result"
    }
   ],
   "source": [
    "import numpy as np\n",
    "import pandas as pd\n",
    "import scipy as sc\n",
    "import matplotlib.pyplot as plt\n",
    "%matplotlib inline\n",
    "\n",
    "df = pd.read_csv(\"wellcome.csv\", encoding ='cp1252')\n",
    "df.head()"
   ]
  },
  {
   "cell_type": "markdown",
   "metadata": {},
   "source": [
    "## I want to remove/drop all rows that have NAN on it."
   ]
  },
  {
   "cell_type": "code",
   "execution_count": 270,
   "metadata": {},
   "outputs": [
    {
     "data": {
      "text/html": [
       "<div>\n",
       "<style scoped>\n",
       "    .dataframe tbody tr th:only-of-type {\n",
       "        vertical-align: middle;\n",
       "    }\n",
       "\n",
       "    .dataframe tbody tr th {\n",
       "        vertical-align: top;\n",
       "    }\n",
       "\n",
       "    .dataframe thead th {\n",
       "        text-align: right;\n",
       "    }\n",
       "</style>\n",
       "<table border=\"1\" class=\"dataframe\">\n",
       "  <thead>\n",
       "    <tr style=\"text-align: right;\">\n",
       "      <th></th>\n",
       "      <th>PMID/PM</th>\n",
       "      <th>Publisher</th>\n",
       "      <th>Journal tit</th>\n",
       "      <th>Article titl</th>\n",
       "      <th>COST (£) charged to Wellcome (inc VAT when charged)</th>\n",
       "    </tr>\n",
       "  </thead>\n",
       "  <tbody>\n",
       "    <tr>\n",
       "      <th>1</th>\n",
       "      <td>PMC36795</td>\n",
       "      <td>ACS</td>\n",
       "      <td>Biomacro</td>\n",
       "      <td>Structural</td>\n",
       "      <td>£2381.04</td>\n",
       "    </tr>\n",
       "    <tr>\n",
       "      <th>2</th>\n",
       "      <td>23043264</td>\n",
       "      <td>ACS</td>\n",
       "      <td>J Med Che</td>\n",
       "      <td>Fumaroyl</td>\n",
       "      <td>£642.56</td>\n",
       "    </tr>\n",
       "    <tr>\n",
       "      <th>3</th>\n",
       "      <td>23438330</td>\n",
       "      <td>ACS</td>\n",
       "      <td>J Med Che</td>\n",
       "      <td>Orvinols</td>\n",
       "      <td>£669.64</td>\n",
       "    </tr>\n",
       "    <tr>\n",
       "      <th>4</th>\n",
       "      <td>23438216</td>\n",
       "      <td>ACS</td>\n",
       "      <td>J Org Che</td>\n",
       "      <td>Regiosele</td>\n",
       "      <td>£685.88</td>\n",
       "    </tr>\n",
       "    <tr>\n",
       "      <th>5</th>\n",
       "      <td>PMC35794</td>\n",
       "      <td>ACS</td>\n",
       "      <td>Journal of</td>\n",
       "      <td>Comparat</td>\n",
       "      <td>£2392.20</td>\n",
       "    </tr>\n",
       "  </tbody>\n",
       "</table>\n",
       "</div>"
      ],
      "text/plain": [
       "     PMID/PM Publisher Journal tit Article titl  \\\n",
       "1   PMC36795       ACS    Biomacro   Structural   \n",
       "2  23043264        ACS   J Med Che     Fumaroyl   \n",
       "3   23438330       ACS   J Med Che     Orvinols   \n",
       "4   23438216       ACS   J Org Che    Regiosele   \n",
       "5   PMC35794       ACS  Journal of     Comparat   \n",
       "\n",
       "  COST (£) charged to Wellcome (inc VAT when charged)  \n",
       "1                                           £2381.04   \n",
       "2                                            £642.56   \n",
       "3                                            £669.64   \n",
       "4                                            £685.88   \n",
       "5                                           £2392.20   "
      ]
     },
     "execution_count": 270,
     "metadata": {},
     "output_type": "execute_result"
    }
   ],
   "source": [
    "new_df = df.dropna()\n",
    "new_df.head()"
   ]
  },
  {
   "cell_type": "markdown",
   "metadata": {},
   "source": [
    "## I want rename the column PMID/PM to PMID and COST (£) charged to Wellcome (inc VAT when charged) to cost for easier column search."
   ]
  },
  {
   "cell_type": "code",
   "execution_count": 272,
   "metadata": {},
   "outputs": [
    {
     "name": "stderr",
     "output_type": "stream",
     "text": [
      "C:\\Users\\MESUPERSEXAYYY\\Anaconda3\\lib\\site-packages\\pandas\\core\\frame.py:3027: SettingWithCopyWarning: \n",
      "A value is trying to be set on a copy of a slice from a DataFrame\n",
      "\n",
      "See the caveats in the documentation: http://pandas.pydata.org/pandas-docs/stable/indexing.html#indexing-view-versus-copy\n",
      "  return super(DataFrame, self).rename(**kwargs)\n"
     ]
    }
   ],
   "source": [
    "new_df.rename(columns = {'PMID/PM': 'PMID'}, inplace=True)\n"
   ]
  },
  {
   "cell_type": "markdown",
   "metadata": {},
   "source": [
    "## I want to rename the COST (£) charged to Wellcome (inc VAT when charged), to just Cost for simplicity."
   ]
  },
  {
   "cell_type": "code",
   "execution_count": 273,
   "metadata": {},
   "outputs": [
    {
     "name": "stderr",
     "output_type": "stream",
     "text": [
      "C:\\Users\\MESUPERSEXAYYY\\Anaconda3\\lib\\site-packages\\pandas\\core\\frame.py:3027: SettingWithCopyWarning: \n",
      "A value is trying to be set on a copy of a slice from a DataFrame\n",
      "\n",
      "See the caveats in the documentation: http://pandas.pydata.org/pandas-docs/stable/indexing.html#indexing-view-versus-copy\n",
      "  return super(DataFrame, self).rename(**kwargs)\n"
     ]
    }
   ],
   "source": [
    "new_df.rename(columns = {'COST (£) charged to Wellcome (inc VAT when charged)': 'cost'}, inplace=True)"
   ]
  },
  {
   "cell_type": "markdown",
   "metadata": {},
   "source": [
    "## Printing out the .head to see a preview of what changes."
   ]
  },
  {
   "cell_type": "code",
   "execution_count": 275,
   "metadata": {},
   "outputs": [
    {
     "data": {
      "text/html": [
       "<div>\n",
       "<style scoped>\n",
       "    .dataframe tbody tr th:only-of-type {\n",
       "        vertical-align: middle;\n",
       "    }\n",
       "\n",
       "    .dataframe tbody tr th {\n",
       "        vertical-align: top;\n",
       "    }\n",
       "\n",
       "    .dataframe thead th {\n",
       "        text-align: right;\n",
       "    }\n",
       "</style>\n",
       "<table border=\"1\" class=\"dataframe\">\n",
       "  <thead>\n",
       "    <tr style=\"text-align: right;\">\n",
       "      <th></th>\n",
       "      <th>PMID</th>\n",
       "      <th>Publisher</th>\n",
       "      <th>Journal tit</th>\n",
       "      <th>Article titl</th>\n",
       "      <th>cost</th>\n",
       "    </tr>\n",
       "  </thead>\n",
       "  <tbody>\n",
       "    <tr>\n",
       "      <th>1</th>\n",
       "      <td>PMC36795</td>\n",
       "      <td>ACS</td>\n",
       "      <td>Biomacro</td>\n",
       "      <td>Structural</td>\n",
       "      <td>£2381.04</td>\n",
       "    </tr>\n",
       "    <tr>\n",
       "      <th>2</th>\n",
       "      <td>23043264</td>\n",
       "      <td>ACS</td>\n",
       "      <td>J Med Che</td>\n",
       "      <td>Fumaroyl</td>\n",
       "      <td>£642.56</td>\n",
       "    </tr>\n",
       "    <tr>\n",
       "      <th>3</th>\n",
       "      <td>23438330</td>\n",
       "      <td>ACS</td>\n",
       "      <td>J Med Che</td>\n",
       "      <td>Orvinols</td>\n",
       "      <td>£669.64</td>\n",
       "    </tr>\n",
       "    <tr>\n",
       "      <th>4</th>\n",
       "      <td>23438216</td>\n",
       "      <td>ACS</td>\n",
       "      <td>J Org Che</td>\n",
       "      <td>Regiosele</td>\n",
       "      <td>£685.88</td>\n",
       "    </tr>\n",
       "    <tr>\n",
       "      <th>5</th>\n",
       "      <td>PMC35794</td>\n",
       "      <td>ACS</td>\n",
       "      <td>Journal of</td>\n",
       "      <td>Comparat</td>\n",
       "      <td>£2392.20</td>\n",
       "    </tr>\n",
       "  </tbody>\n",
       "</table>\n",
       "</div>"
      ],
      "text/plain": [
       "        PMID Publisher Journal tit Article titl      cost\n",
       "1   PMC36795       ACS    Biomacro   Structural  £2381.04\n",
       "2  23043264        ACS   J Med Che     Fumaroyl   £642.56\n",
       "3   23438330       ACS   J Med Che     Orvinols   £669.64\n",
       "4   23438216       ACS   J Org Che    Regiosele   £685.88\n",
       "5   PMC35794       ACS  Journal of     Comparat  £2392.20"
      ]
     },
     "execution_count": 275,
     "metadata": {},
     "output_type": "execute_result"
    }
   ],
   "source": [
    "new_df.head()"
   ]
  },
  {
   "cell_type": "markdown",
   "metadata": {},
   "source": [
    "## I only want to search PMC follow by digits only."
   ]
  },
  {
   "cell_type": "code",
   "execution_count": 277,
   "metadata": {},
   "outputs": [
    {
     "name": "stderr",
     "output_type": "stream",
     "text": [
      "C:\\Users\\MESUPERSEXAYYY\\Anaconda3\\lib\\site-packages\\ipykernel_launcher.py:1: UserWarning: This pattern has match groups. To actually get the groups, use str.extract.\n",
      "  \"\"\"Entry point for launching an IPython kernel.\n"
     ]
    },
    {
     "data": {
      "text/html": [
       "<div>\n",
       "<style scoped>\n",
       "    .dataframe tbody tr th:only-of-type {\n",
       "        vertical-align: middle;\n",
       "    }\n",
       "\n",
       "    .dataframe tbody tr th {\n",
       "        vertical-align: top;\n",
       "    }\n",
       "\n",
       "    .dataframe thead th {\n",
       "        text-align: right;\n",
       "    }\n",
       "</style>\n",
       "<table border=\"1\" class=\"dataframe\">\n",
       "  <thead>\n",
       "    <tr style=\"text-align: right;\">\n",
       "      <th></th>\n",
       "      <th>PMID</th>\n",
       "      <th>Publisher</th>\n",
       "      <th>Journal tit</th>\n",
       "      <th>Article titl</th>\n",
       "      <th>cost</th>\n",
       "    </tr>\n",
       "  </thead>\n",
       "  <tbody>\n",
       "    <tr>\n",
       "      <th>1</th>\n",
       "      <td>PMC36795</td>\n",
       "      <td>ACS</td>\n",
       "      <td>Biomacro</td>\n",
       "      <td>Structural</td>\n",
       "      <td>£2381.04</td>\n",
       "    </tr>\n",
       "    <tr>\n",
       "      <th>5</th>\n",
       "      <td>PMC35794</td>\n",
       "      <td>ACS</td>\n",
       "      <td>Journal of</td>\n",
       "      <td>Comparat</td>\n",
       "      <td>£2392.20</td>\n",
       "    </tr>\n",
       "    <tr>\n",
       "      <th>6</th>\n",
       "      <td>PMC37092</td>\n",
       "      <td>ACS</td>\n",
       "      <td>Journal of</td>\n",
       "      <td>Mapping</td>\n",
       "      <td>£2367.95</td>\n",
       "    </tr>\n",
       "    <tr>\n",
       "      <th>14</th>\n",
       "      <td>PMC3413</td>\n",
       "      <td>ACS Publi</td>\n",
       "      <td>Biochemi</td>\n",
       "      <td>Monomer</td>\n",
       "      <td>£665.64</td>\n",
       "    </tr>\n",
       "    <tr>\n",
       "      <th>15</th>\n",
       "      <td>PMC36943</td>\n",
       "      <td>ACS Publi</td>\n",
       "      <td>Journal of</td>\n",
       "      <td>Synthesis</td>\n",
       "      <td>£1006.72</td>\n",
       "    </tr>\n",
       "  </tbody>\n",
       "</table>\n",
       "</div>"
      ],
      "text/plain": [
       "        PMID  Publisher Journal tit Article titl      cost\n",
       "1   PMC36795        ACS    Biomacro   Structural  £2381.04\n",
       "5   PMC35794        ACS  Journal of     Comparat  £2392.20\n",
       "6   PMC37092        ACS  Journal of      Mapping  £2367.95\n",
       "14   PMC3413  ACS Publi    Biochemi      Monomer   £665.64\n",
       "15  PMC36943  ACS Publi  Journal of    Synthesis  £1006.72"
      ]
     },
     "execution_count": 277,
     "metadata": {},
     "output_type": "execute_result"
    }
   ],
   "source": [
    "new_df[new_df['PMID'].str.contains('([A-Z][0-9])')].head()"
   ]
  },
  {
   "cell_type": "markdown",
   "metadata": {},
   "source": [
    "## Now I'm removing the $ and £ symbol on the Cost Column to later obtain the mean, medium, variance without error."
   ]
  },
  {
   "cell_type": "code",
   "execution_count": 279,
   "metadata": {},
   "outputs": [
    {
     "data": {
      "text/plain": [
       "1    2381.04\n",
       "2     642.56\n",
       "3     669.64\n",
       "4     685.88\n",
       "5    2392.20\n",
       "Name: cost, dtype: float64"
      ]
     },
     "execution_count": 279,
     "metadata": {},
     "output_type": "execute_result"
    }
   ],
   "source": [
    "new_df['cost'].replace(\"[$,£]\", '', regex=True).astype(float).head()"
   ]
  },
  {
   "cell_type": "markdown",
   "metadata": {},
   "source": [
    "## Determine the five most common journals and the total articles for each."
   ]
  },
  {
   "cell_type": "code",
   "execution_count": 281,
   "metadata": {},
   "outputs": [
    {
     "data": {
      "text/plain": [
       "Journal of    277\n",
       "PLoS One       91\n",
       "PLoS ONE       62\n",
       "Proceedin      39\n",
       "Molecular      35\n",
       "American       27\n",
       "Name: Journal tit, dtype: int64"
      ]
     },
     "execution_count": 281,
     "metadata": {},
     "output_type": "execute_result"
    }
   ],
   "source": [
    "new_df['Journal tit'].value_counts().head(6)"
   ]
  },
  {
   "cell_type": "markdown",
   "metadata": {},
   "source": [
    "## calculating the Mean, Median, and SD for PLoS One article."
   ]
  },
  {
   "cell_type": "code",
   "execution_count": 304,
   "metadata": {},
   "outputs": [
    {
     "name": "stdout",
     "output_type": "stream",
     "text": [
      "The mean: \n",
      "24995.559450549452\n",
      "The median: \n",
      "896.32\n",
      "The SD: \n",
      "148336.48781680054\n"
     ]
    }
   ],
   "source": [
    "print(\"The mean: \")\n",
    "print(new_df.loc[new_df['Journal tit'] == \"PLoS One\"]['cost'].replace(\"[$,£]\", '', regex=True).astype(float).mean())\n",
    "\n",
    "print(\"The median: \")\n",
    "print(new_df.loc[new_df['Journal tit'] == \"PLoS One\"]['cost'].replace(\"[$,£]\", '', regex=True).astype(float).median())\n",
    "\n",
    "print(\"The SD: \")\n",
    "print(new_df.loc[new_df['Journal tit'] == \"PLoS One\"]['cost'].replace(\"[$,£]\", '', regex=True).astype(float).std())"
   ]
  },
  {
   "cell_type": "markdown",
   "metadata": {},
   "source": [
    "## calculating the Mean, Median, and SD for PLoS ONE article."
   ]
  },
  {
   "cell_type": "code",
   "execution_count": 306,
   "metadata": {},
   "outputs": [
    {
     "name": "stdout",
     "output_type": "stream",
     "text": [
      "The mean: \n",
      "49248.71725806452\n",
      "The median: \n",
      "890.095\n",
      "The SD: \n",
      "216138.48621974917\n"
     ]
    }
   ],
   "source": [
    "print(\"The mean: \")\n",
    "print(new_df.loc[new_df['Journal tit'] == \"PLoS ONE\"]['cost'].replace(\"[$,£]\", '', regex=True).astype(float).mean())\n",
    "\n",
    "print(\"The median: \")\n",
    "print(new_df.loc[new_df['Journal tit'] == \"PLoS ONE\"]['cost'].replace(\"[$,£]\", '', regex=True).astype(float).median())\n",
    "\n",
    "print(\"The SD: \")\n",
    "print(new_df.loc[new_df['Journal tit'] == \"PLoS ONE\"]['cost'].replace(\"[$,£]\", '', regex=True).astype(float).std())"
   ]
  },
  {
   "cell_type": "markdown",
   "metadata": {},
   "source": [
    "## calculating the Mean, Median, and SD for Proceedin."
   ]
  },
  {
   "cell_type": "code",
   "execution_count": 307,
   "metadata": {},
   "outputs": [
    {
     "name": "stdout",
     "output_type": "stream",
     "text": [
      "The mean: \n",
      "993.6494871794872\n",
      "The median: \n",
      "792.0\n",
      "The SD: \n",
      "489.82358956512786\n"
     ]
    }
   ],
   "source": [
    "print(\"The mean: \")\n",
    "print(new_df.loc[new_df['Journal tit'] == \"Proceedin\"]['cost'].replace(\"[$,£]\", '', regex=True).astype(float).mean())\n",
    "\n",
    "print(\"The median: \")\n",
    "print(new_df.loc[new_df['Journal tit'] == \"Proceedin\"]['cost'].replace(\"[$,£]\", '', regex=True).astype(float).median())\n",
    "\n",
    "print(\"The SD: \")\n",
    "print(new_df.loc[new_df['Journal tit'] == \"Proceedin\"]['cost'].replace(\"[$,£]\", '', regex=True).astype(float).std())"
   ]
  },
  {
   "cell_type": "markdown",
   "metadata": {},
   "source": [
    "## calculating the Mean, Median, and SD for Molecular."
   ]
  },
  {
   "cell_type": "code",
   "execution_count": 308,
   "metadata": {
    "scrolled": true
   },
   "outputs": [
    {
     "name": "stdout",
     "output_type": "stream",
     "text": [
      "The mean: \n",
      "59179.34\n",
      "The median: \n",
      "2236.02\n",
      "The SD: \n",
      "234996.2392846206\n"
     ]
    }
   ],
   "source": [
    "print(\"The mean: \")\n",
    "print(new_df.loc[new_df['Journal tit'] == \"Molecular\"]['cost'].replace(\"[$,£]\", '', regex=True).astype(float).mean())\n",
    "\n",
    "print(\"The median: \")\n",
    "print(new_df.loc[new_df['Journal tit'] == \"Molecular\"]['cost'].replace(\"[$,£]\", '', regex=True).astype(float).median())\n",
    "\n",
    "print(\"The SD: \")\n",
    "print(new_df.loc[new_df['Journal tit'] == \"Molecular\"]['cost'].replace(\"[$,£]\", '', regex=True).astype(float).std())"
   ]
  },
  {
   "cell_type": "markdown",
   "metadata": {},
   "source": [
    "## calculating the Mean, Median, and SD for American."
   ]
  },
  {
   "cell_type": "code",
   "execution_count": 309,
   "metadata": {},
   "outputs": [
    {
     "name": "stdout",
     "output_type": "stream",
     "text": [
      "The mean: \n",
      "2052.1700000000005\n",
      "The median: \n",
      "2040.0\n",
      "The SD: \n",
      "536.7577610058379\n"
     ]
    }
   ],
   "source": [
    "print(\"The mean: \")\n",
    "print(new_df.loc[new_df['Journal tit'] == \"American\"]['cost'].replace(\"[$,£]\", '', regex=True).astype(float).mean())\n",
    "\n",
    "print(\"The median: \")\n",
    "print(new_df.loc[new_df['Journal tit'] == \"American\"]['cost'].replace(\"[$,£]\", '', regex=True).astype(float).median())\n",
    "\n",
    "print(\"The SD: \")\n",
    "print(new_df.loc[new_df['Journal tit'] == \"American\"]['cost'].replace(\"[$,£]\", '', regex=True).astype(float).std())"
   ]
  },
  {
   "cell_type": "code",
   "execution_count": null,
   "metadata": {},
   "outputs": [],
   "source": []
  }
 ],
 "metadata": {
  "kernelspec": {
   "display_name": "Python 3",
   "language": "python",
   "name": "python3"
  },
  "language_info": {
   "codemirror_mode": {
    "name": "ipython",
    "version": 3
   },
   "file_extension": ".py",
   "mimetype": "text/x-python",
   "name": "python",
   "nbconvert_exporter": "python",
   "pygments_lexer": "ipython3",
   "version": "3.6.4"
  }
 },
 "nbformat": 4,
 "nbformat_minor": 2
}
